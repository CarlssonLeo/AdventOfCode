{
 "cells": [
  {
   "cell_type": "code",
   "execution_count": 11,
   "metadata": {},
   "outputs": [
    {
     "data": {
      "text/plain": [
       "38714"
      ]
     },
     "execution_count": 11,
     "metadata": {},
     "output_type": "execute_result"
    }
   ],
   "source": [
    "import re\n",
    "import numpy as np\n",
    "from sympy import solve\n",
    "from sympy.abc import x, y\n",
    "data = open(\"13.txt\", \"r\").read().split(\"\\n\\n\")\n",
    "\n",
    "def solution(data):\n",
    "    lst = []\n",
    "    for row in data:\n",
    "        Ax, Ay, Bx, By, Px, Py = map(int, re.findall(r\"\\d+\", row))\n",
    "        Px, Py = Px, Py\n",
    "        X = (Px*By-Py*Bx)/(Ax*By-Ay*Bx)\n",
    "        Y = (Px-X*Ax)/Bx\n",
    "\n",
    "        if X % 1 == 0 and Y % 1 == 0:\n",
    "            lst.append(X*3+Y)\n",
    "    return int(sum(lst))\n",
    "solution(data)"
   ]
  },
  {
   "cell_type": "code",
   "execution_count": 10,
   "metadata": {},
   "outputs": [
    {
     "data": {
      "text/plain": [
       "38714"
      ]
     },
     "execution_count": 10,
     "metadata": {},
     "output_type": "execute_result"
    }
   ],
   "source": [
    "def np_solution(data):\n",
    "    lst = []\n",
    "    for row in data:\n",
    "        Ax, Ay, Bx, By, Px, Py = map(int, re.findall(r\"\\d+\", row))\n",
    "        A =[[Ax,Bx], [Ay, By]]\n",
    "        B = [Px,Py]\n",
    "        X, Y = np.linalg.solve(A,B)\n",
    "\n",
    "        if np.isclose(X, round(X)) and np.isclose(Y, round(Y)):\n",
    "            lst.append(X*3+Y)\n",
    "    return int(sum(lst))\n",
    "np_solution(data)"
   ]
  },
  {
   "cell_type": "code",
   "execution_count": 8,
   "metadata": {},
   "outputs": [
    {
     "data": {
      "text/plain": [
       "38714"
      ]
     },
     "execution_count": 8,
     "metadata": {},
     "output_type": "execute_result"
    }
   ],
   "source": [
    "def sympy_solution(data):\n",
    "    lst = []\n",
    "    for row in data:\n",
    "        Ax, Ay, Bx, By, Px, Py = map(int, re.findall(r\"\\d+\", row))\n",
    "\n",
    "        solution = solve([x*Ax + y*Bx - Px, x*Ay + y*By - Py], [x, y], dict=False)\n",
    "\n",
    "        if solution[x] % 1 == 0 and solution[y] % 1 == 0:\n",
    "            lst.append(solution[x]*3+solution[y])\n",
    "    return int(sum(lst))\n",
    "sympy_solution(data)"
   ]
  },
  {
   "cell_type": "code",
   "execution_count": null,
   "metadata": {},
   "outputs": [
    {
     "data": {
      "text/plain": [
       "38714"
      ]
     },
     "execution_count": 7,
     "metadata": {},
     "output_type": "execute_result"
    }
   ],
   "source": []
  },
  {
   "cell_type": "code",
   "execution_count": null,
   "metadata": {},
   "outputs": [],
   "source": []
  }
 ],
 "metadata": {
  "kernelspec": {
   "display_name": "base",
   "language": "python",
   "name": "python3"
  },
  "language_info": {
   "codemirror_mode": {
    "name": "ipython",
    "version": 3
   },
   "file_extension": ".py",
   "mimetype": "text/x-python",
   "name": "python",
   "nbconvert_exporter": "python",
   "pygments_lexer": "ipython3",
   "version": "3.12.4"
  }
 },
 "nbformat": 4,
 "nbformat_minor": 2
}
