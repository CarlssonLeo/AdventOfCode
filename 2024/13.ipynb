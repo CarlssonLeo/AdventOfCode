{
 "cells": [
  {
   "cell_type": "code",
   "execution_count": 63,
   "metadata": {},
   "outputs": [
    {
     "data": {
      "text/plain": [
       "74015623345775"
      ]
     },
     "execution_count": 63,
     "metadata": {},
     "output_type": "execute_result"
    }
   ],
   "source": [
    "import re\n",
    "\n",
    "data = open(\"13.txt\", \"r\").read().split(\"\\n\\n\")\n",
    "\n",
    "lst = []\n",
    "for row in data:\n",
    "    Ax, Ay, Bx, By, Px, Py = map(int, re.findall(r\"\\d+\", row))\n",
    "    Px, Py = Px+10000000000000, Py+10000000000000\n",
    "    X = (Px*By-Py*Bx)/(Ax*By-Ay*Bx)\n",
    "    Y = (Px-X*Ax)/Bx\n",
    "\n",
    "    if X % 1 == 0 and Y % 1 == 0:\n",
    "        lst.append(X*3+Y)\n",
    "int(sum(lst))"
   ]
  }
 ],
 "metadata": {
  "kernelspec": {
   "display_name": "base",
   "language": "python",
   "name": "python3"
  },
  "language_info": {
   "codemirror_mode": {
    "name": "ipython",
    "version": 3
   },
   "file_extension": ".py",
   "mimetype": "text/x-python",
   "name": "python",
   "nbconvert_exporter": "python",
   "pygments_lexer": "ipython3",
   "version": "3.12.4"
  }
 },
 "nbformat": 4,
 "nbformat_minor": 2
}
