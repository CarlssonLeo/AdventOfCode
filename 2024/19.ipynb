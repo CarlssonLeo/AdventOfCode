{
 "cells": [
  {
   "cell_type": "code",
   "execution_count": 10,
   "metadata": {},
   "outputs": [
    {
     "data": {
      "text/plain": [
       "342"
      ]
     },
     "execution_count": 10,
     "metadata": {},
     "output_type": "execute_result"
    }
   ],
   "source": [
    "from functools import cache\n",
    "\n",
    "data = open(\"19.txt\", \"r\").read().splitlines()\n",
    "patterns = set(data[0].split(\", \"))\n",
    "maxlen = max(map(len, patterns))\n",
    "\n",
    "@cache\n",
    "def trie_search(design):\n",
    "    if design == \"\": return True\n",
    "\n",
    "    for i in range(min(len(design), maxlen) + 1):\n",
    "        if design[:i] in patterns and trie_search(design[i:]):\n",
    "            return True\n",
    "    return False\n",
    "\n",
    "sum([trie_search(design) for design in data[2:]])"
   ]
  },
  {
   "cell_type": "code",
   "execution_count": 6,
   "metadata": {},
   "outputs": [
    {
     "data": {
      "text/plain": [
       "891192814474630"
      ]
     },
     "execution_count": 6,
     "metadata": {},
     "output_type": "execute_result"
    }
   ],
   "source": [
    "@cache\n",
    "def trie_count(design):\n",
    "    if design == \"\": return 1\n",
    "    count = 0\n",
    "    for i in range(min(len(design), maxlen) + 1):\n",
    "        if design[:i] in patterns:\n",
    "            count += trie_count(design[i:])\n",
    "    return count\n",
    "\n",
    "sum([trie_count(design) for design in data[2:]])"
   ]
  }
 ],
 "metadata": {
  "kernelspec": {
   "display_name": "base",
   "language": "python",
   "name": "python3"
  },
  "language_info": {
   "codemirror_mode": {
    "name": "ipython",
    "version": 3
   },
   "file_extension": ".py",
   "mimetype": "text/x-python",
   "name": "python",
   "nbconvert_exporter": "python",
   "pygments_lexer": "ipython3",
   "version": "3.12.4"
  }
 },
 "nbformat": 4,
 "nbformat_minor": 2
}
