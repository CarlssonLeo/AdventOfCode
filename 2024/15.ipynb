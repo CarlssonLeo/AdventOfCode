{
 "cells": [
  {
   "cell_type": "code",
   "execution_count": 199,
   "metadata": {},
   "outputs": [],
   "source": [
    "import numpy as np\n",
    "\n",
    "def pos_to_tuple(pos):\n",
    "    return pos[0][0], pos[1][0]\n",
    "\n",
    "def move(start_pos: tuple, direction: str):\n",
    "    start_pos = np.array(start_pos)\n",
    "    row = np.array([1, 0])\n",
    "    col = np.array([0, 1])\n",
    "    if direction == \"v\":\n",
    "        return tuple(start_pos + row)\n",
    "    elif direction == \"^\":\n",
    "        return tuple(start_pos - row)\n",
    "    elif direction == \"<\":\n",
    "        return tuple(start_pos - col)\n",
    "    elif direction == \">\":\n",
    "        return tuple(start_pos + col)\n",
    "\n",
    "\n",
    "def boxes_in_front(next_position, direction, grid):\n",
    "    box_list = []\n",
    "    current = next_position\n",
    "    while grid[current] == \"O\":\n",
    "        box_list.append(current)\n",
    "        current = move(current, direction)\n",
    "        if grid[current] == \"#\":\n",
    "            moveable = False\n",
    "            return [], moveable\n",
    "        if grid[current] == \".\":\n",
    "            moveable = True\n",
    "            return box_list, moveable\n",
    "\n",
    "def move_box(pos, direction, grid):\n",
    "    grid = grid.copy()\n",
    "    next_position = move(pos, direction)\n",
    "    prev_character = grid[pos]\n",
    "\n",
    "    if grid[next_position] == \"#\":\n",
    "        return grid\n",
    "    \n",
    "    if grid[next_position]  == \"O\":\n",
    "        box_list, moveable = boxes_in_front(next_position, direction, grid)\n",
    "        \n",
    "        while len(box_list) not in [1, 0] and moveable:\n",
    "            last_box = box_list.pop()\n",
    "            last_box_pos = move(last_box, direction)\n",
    "            grid[last_box_pos] = \"O\"\n",
    "        \n",
    "        if len(box_list) == 1 and moveable:\n",
    "            last_box = box_list.pop()\n",
    "            last_box_pos = move(last_box, direction)\n",
    "            grid[last_box_pos] = \"O\"\n",
    "            grid[last_box] = \"@\"\n",
    "            grid[pos] = \".\"\n",
    "\n",
    "        return grid"
   ]
  },
  {
   "cell_type": "code",
   "execution_count": 202,
   "metadata": {},
   "outputs": [
    {
     "data": {
      "text/plain": [
       "1415498"
      ]
     },
     "execution_count": 202,
     "metadata": {},
     "output_type": "execute_result"
    }
   ],
   "source": [
    "data = open(\"15.txt\", \"r\").readlines()\n",
    "\n",
    "instructions = open(\"15_instructions.txt\", \"r\").read()\n",
    "instructions = instructions.replace(\"\\n\", \"\")\n",
    "data = [list(row.strip()) for row in data]\n",
    "grid = np.array(data)\n",
    "\n",
    "start = np.where(grid == \"@\")\n",
    "start = pos_to_tuple(start)\n",
    "\n",
    "for i, direction in enumerate(instructions):\n",
    "    next_position = move(start, direction)\n",
    "    if grid[next_position] == \"#\":\n",
    "        continue\n",
    "\n",
    "    elif grid[next_position] == \"O\":\n",
    "        grid = move_box(start, direction, grid)\n",
    "        start = np.where(grid == \"@\")\n",
    "        start = pos_to_tuple(start)\n",
    "    \n",
    "    else:\n",
    "        grid[start] = \".\"\n",
    "        grid[next_position] = \"@\"\n",
    "        start = next_position    \n",
    "    \n",
    "boxes = np.where(grid == \"O\")\n",
    "(boxes[0]*100 + boxes[1]).sum()"
   ]
  },
  {
   "cell_type": "code",
   "execution_count": null,
   "metadata": {},
   "outputs": [],
   "source": []
  }
 ],
 "metadata": {
  "kernelspec": {
   "display_name": "base",
   "language": "python",
   "name": "python3"
  },
  "language_info": {
   "codemirror_mode": {
    "name": "ipython",
    "version": 3
   },
   "file_extension": ".py",
   "mimetype": "text/x-python",
   "name": "python",
   "nbconvert_exporter": "python",
   "pygments_lexer": "ipython3",
   "version": "3.12.4"
  }
 },
 "nbformat": 4,
 "nbformat_minor": 2
}
