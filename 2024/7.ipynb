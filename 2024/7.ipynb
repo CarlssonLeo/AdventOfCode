{
 "cells": [
  {
   "cell_type": "code",
   "execution_count": 5,
   "metadata": {},
   "outputs": [
    {
     "data": {
      "text/plain": [
       "['190: 10 19',\n",
       " '3267: 81 40 27',\n",
       " '83: 17 5',\n",
       " '156: 15 6',\n",
       " '7290: 6 8 6 15',\n",
       " '161011: 16 10 13',\n",
       " '192: 17 8 14',\n",
       " '21037: 9 7 18 13',\n",
       " '292: 11 6 16 20']"
      ]
     },
     "execution_count": 5,
     "metadata": {},
     "output_type": "execute_result"
    }
   ],
   "source": [
    "import itertools\n",
    "\n",
    "data = \"21037: 9 7 18 13\"\n",
    "data = data.split(\": \")\n",
    "target = int(data[0])\n",
    "numbers = data[1].replace(\" \", \"a\")\n",
    "target\n",
    "\n"
   ]
  },
  {
   "cell_type": "code",
   "execution_count": 57,
   "metadata": {},
   "outputs": [
    {
     "data": {
      "text/plain": [
       "'9a7a18a13'"
      ]
     },
     "execution_count": 57,
     "metadata": {},
     "output_type": "execute_result"
    }
   ],
   "source": [
    "numbers"
   ]
  },
  {
   "cell_type": "code",
   "execution_count": 50,
   "metadata": {},
   "outputs": [
    {
     "data": {
      "text/plain": [
       "1298103531759"
      ]
     },
     "execution_count": 50,
     "metadata": {},
     "output_type": "execute_result"
    }
   ],
   "source": [
    "import itertools\n",
    "import numpy as np\n",
    "\n",
    "def numbers_to_parenthesis_str(numbers):\n",
    "    numbers = list(map(int, numbers.split()))\n",
    "    eq_tuple  = (numbers[0], numbers[1])\n",
    "    for i in range(2, len(numbers)):\n",
    "        eq_tuple = ((eq_tuple), numbers[i])\n",
    "    \n",
    "    return str(eq_tuple).replace(\", \", \"a\")\n",
    "\n",
    "def calculate(numbers, target):\n",
    "    # Input string to strin in form ((XaY)aZ)\n",
    "    input_str = numbers_to_parenthesis_str(numbers)\n",
    "\n",
    "    # Count the number of 'a's in the input string\n",
    "    num_as = input_str.count('a')\n",
    "\n",
    "    # Generate all combinations of '+' and '*' for the number of 'a's\n",
    "    combinations = itertools.product('+*', repeat=num_as)\n",
    "\n",
    "    # Replace the 'a's in the input string with the generated combinations\n",
    "    results = []\n",
    "    for combo in combinations:\n",
    "        temp_str = input_str\n",
    "        for char in combo:\n",
    "            temp_str = temp_str.replace('a', char, 1)\n",
    "        results.append(temp_str)\n",
    "\n",
    "    # Print the results\n",
    "    res_lst = []\n",
    "    for result in results:\n",
    "        res_lst.append(eval(result) == target)\n",
    "    return np.any(res_lst)\n",
    "\n",
    "data = open(\"7.txt\", \"r\").read().splitlines()\n",
    "\n",
    "result = 0\n",
    "for equation in data:\n",
    "    equation = equation.split(\": \")\n",
    "    target = int(equation[0])\n",
    "    numbers = equation[1]\n",
    "\n",
    "    if calculate(numbers, target):\n",
    "        result += target\n",
    "\n",
    "result"
   ]
  },
  {
   "cell_type": "code",
   "execution_count": 105,
   "metadata": {},
   "outputs": [
    {
     "name": "stdout",
     "output_type": "stream",
     "text": [
      "True: [True, False] for ['190', '10 19']\n",
      "True: [True, False, False, False] for ['3267', '81 40 27']\n",
      "False: [False, False] for ['83', '17 5']\n",
      "True: [False, True] for ['156', '15 6']\n",
      "False: [False, False, False, False, False, False, False, False] for ['7290', '6 8 6 15']\n",
      "False: [False, False, False, False] for ['161011', '16 10 13']\n",
      "True: [False, False, True, False] for ['192', '17 8 14']\n",
      "False: [False, False, False, False, False, False, False, False] for ['21037', '9 7 18 13']\n",
      "True: [True, False, False, False, False, False, False, False] for ['292', '11 6 16 20']\n"
     ]
    },
    {
     "data": {
      "text/plain": [
       "4097"
      ]
     },
     "execution_count": 105,
     "metadata": {},
     "output_type": "execute_result"
    }
   ],
   "source": [
    "import itertools\n",
    "import numpy as np\n",
    "\n",
    "def numbers_to_parenthesis_str(numbers):\n",
    "    if numbers.count(\" \") == 0:\n",
    "        return numbers\n",
    "    numbers = list(map(int, numbers.split()))\n",
    "    eq_tuple  = (numbers[0], numbers[1])\n",
    "    for i in range(2, len(numbers)):\n",
    "        eq_tuple = ((eq_tuple), numbers[i])\n",
    "    \n",
    "    return str(eq_tuple).replace(\", \", \"a\")\n",
    "\n",
    "def calculate(numbers, target):\n",
    "    # Input string to strin in form ((XaY)aZ)\n",
    "    input_str = numbers_to_parenthesis_str(numbers)\n",
    "\n",
    "    # Count the number of 'a's in the input string\n",
    "    num_as = input_str.count('a')\n",
    "\n",
    "    # Generate all combinations of \"+\", \"*\", and \" \" for the number of 'a's\n",
    "    combinations = itertools.product('+*', repeat=num_as)\n",
    "\n",
    "    # Replace the 'a's in the input string with the generated combinations\n",
    "    results = []\n",
    "    for combo in combinations:\n",
    "        temp_str = input_str\n",
    "        for char in combo:\n",
    "            temp_str = temp_str.replace('a', char, 1)\n",
    "        results.append(temp_str)\n",
    "\n",
    "    # Print the results\n",
    "    res_lst = []\n",
    "    for result in results:\n",
    "        res_lst.append(eval(result) == target)\n",
    "    return np.any(res_lst)\n",
    "\n",
    "data = open(\"sample.txt\", \"r\").read().splitlines()\n",
    "\n",
    "result = 0\n",
    "for equation in data:\n",
    "    equation = equation.split(\": \")\n",
    "    target = int(equation[0])\n",
    "    numbers = equation[1]\n",
    "\n",
    "    truth_list = []\n",
    "    for variant_eq in generate_eq_list(numbers):\n",
    "        truth_list.append(calculate(variant_eq, target))\n",
    "    print(f\"{np.any(truth_list)}: {truth_list} for {equation}\")\n",
    "\n",
    "    if np.any(truth_list):\n",
    "        result += target\n",
    "\n",
    "result"
   ]
  },
  {
   "cell_type": "code",
   "execution_count": 97,
   "metadata": {},
   "outputs": [
    {
     "data": {
      "text/plain": [
       "[True, False, False, False, False, False, False]"
      ]
     },
     "execution_count": 97,
     "metadata": {},
     "output_type": "execute_result"
    }
   ],
   "source": [
    "truth_list"
   ]
  },
  {
   "cell_type": "code",
   "execution_count": 108,
   "metadata": {},
   "outputs": [
    {
     "data": {
      "text/plain": [
       "['(((6a8)a6)a15)',\n",
       " '((6a8)a615)',\n",
       " '((6a86)a15)',\n",
       " '(6a8615)',\n",
       " '((68a6)a15)',\n",
       " '(68a615)',\n",
       " '(686a15)',\n",
       " '68615']"
      ]
     },
     "execution_count": 108,
     "metadata": {},
     "output_type": "execute_result"
    }
   ],
   "source": [
    "list(map(numbers_to_parenthesis_str, generate_eq_list(\"6 8 6 15\")))"
   ]
  },
  {
   "cell_type": "code",
   "execution_count": 106,
   "metadata": {},
   "outputs": [
    {
     "data": {
      "text/plain": [
       "'(((6a8)a6)a15)'"
      ]
     },
     "execution_count": 106,
     "metadata": {},
     "output_type": "execute_result"
    }
   ],
   "source": [
    "numbers_to_parenthesis_str(\"6 8 6 15\")"
   ]
  },
  {
   "cell_type": "code",
   "execution_count": 102,
   "metadata": {},
   "outputs": [
    {
     "data": {
      "text/plain": [
       "['15 6', '156']"
      ]
     },
     "execution_count": 102,
     "metadata": {},
     "output_type": "execute_result"
    }
   ],
   "source": [
    "def generate_eq_list(input_str):\n",
    "    num_as = input_str.count(' ')\n",
    "\n",
    "    # Generate all combinations of '+' and '*' for the number of 'a's\n",
    "    combinations = itertools.product('ab', repeat=num_as)\n",
    "\n",
    "    # Replace the 'a's in the input string with the generated combinations\n",
    "    results = []\n",
    "    for combo in combinations:\n",
    "        temp_str = input_str\n",
    "        for char in combo:\n",
    "            temp_str = temp_str.replace(' ', char, 1)\n",
    "        results.append(temp_str)\n",
    "    output = []\n",
    "    for result in results:\n",
    "        eq = result.replace(\"b\", \"\").replace(\"a\", \" \")\n",
    "        output.append(eq)\n",
    "    return output\n",
    "\n",
    "input_str = \"15 6\"\n",
    "generate_eq_list(input_str)"
   ]
  },
  {
   "cell_type": "code",
   "execution_count": 88,
   "metadata": {},
   "outputs": [
    {
     "data": {
      "text/plain": [
       "1"
      ]
     },
     "execution_count": 88,
     "metadata": {},
     "output_type": "execute_result"
    }
   ],
   "source": [
    "'11616 20'.count(\" \")"
   ]
  },
  {
   "cell_type": "code",
   "execution_count": 92,
   "metadata": {},
   "outputs": [
    {
     "name": "stdout",
     "output_type": "stream",
     "text": [
      "10 19\n",
      "81 40 27\n",
      "81 4027\n",
      "8140 27\n",
      "17 5\n",
      "15 6\n",
      "6 8 6 15\n",
      "6 8 615\n",
      "6 86 15\n",
      "6 8615\n",
      "68 6 15\n",
      "68 615\n",
      "686 15\n",
      "16 10 13\n",
      "16 1013\n",
      "1610 13\n",
      "17 8 14\n",
      "17 814\n",
      "178 14\n",
      "9 7 18 13\n",
      "9 7 1813\n",
      "9 718 13\n",
      "9 71813\n",
      "97 18 13\n",
      "97 1813\n",
      "9718 13\n",
      "11 6 16 20\n",
      "11 6 1620\n",
      "11 616 20\n",
      "11 61620\n",
      "116 16 20\n",
      "116 1620\n",
      "11616 20\n"
     ]
    }
   ],
   "source": [
    "for equation in data:\n",
    "    equation = equation.split(\": \")\n",
    "    target = int(equation[0])\n",
    "    numbers = equation[1]\n",
    "\n",
    "    truth_list = []\n",
    "    for variant_eq in generate_eq_list(numbers):\n",
    "        print(variant_eq)"
   ]
  },
  {
   "cell_type": "code",
   "execution_count": null,
   "metadata": {},
   "outputs": [],
   "source": []
  }
 ],
 "metadata": {
  "kernelspec": {
   "display_name": "base",
   "language": "python",
   "name": "python3"
  },
  "language_info": {
   "codemirror_mode": {
    "name": "ipython",
    "version": 3
   },
   "file_extension": ".py",
   "mimetype": "text/x-python",
   "name": "python",
   "nbconvert_exporter": "python",
   "pygments_lexer": "ipython3",
   "version": "3.12.4"
  }
 },
 "nbformat": 4,
 "nbformat_minor": 2
}
