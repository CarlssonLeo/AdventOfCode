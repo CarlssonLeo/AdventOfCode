{
 "cells": [
  {
   "cell_type": "markdown",
   "metadata": {},
   "source": [
    "bfs?"
   ]
  },
  {
   "cell_type": "code",
   "execution_count": 33,
   "metadata": {},
   "outputs": [
    {
     "data": {
      "text/plain": [
       "22"
      ]
     },
     "execution_count": 33,
     "metadata": {},
     "output_type": "execute_result"
    }
   ],
   "source": [
    "from collections import deque\n",
    "\n",
    "def adjacent(row, col, max_row, max_col):\n",
    "    near = [(row-1, col), (row, col + 1), (row+1, col), (row, col-1)]\n",
    "    return [(row, col) for  row, col in near if row >= 0 and col >= 0 and row < max_row and col < max_col]\n",
    "\n",
    "def bfs(grid, start_row, start_col, target_row, target_col):\n",
    "    max_row = len(grid)\n",
    "    max_col = len(grid[0])\n",
    "\n",
    "    queue = deque([(start_row, start_col, 0)])\n",
    "    seen = {(start_row, start_col)}\n",
    "    path = {(start_row, start_col, 0)}\n",
    "\n",
    "    while queue:\n",
    "        row, col, steps = queue.popleft()\n",
    "\n",
    "        for next_row, next_col in adjacent(row, col, max_row, max_col):\n",
    "            if grid[next_row][next_col] == \"#\": continue\n",
    "            if (next_row, next_col) in seen: continue\n",
    "            if (next_row, next_col) == (target_row, target_col):\n",
    "                return steps+1, path\n",
    "            \n",
    "            seen.add((next_row, next_col))\n",
    "            path.add((next_row, next_col, steps))\n",
    "            queue.append((next_row, next_col, steps+1))\n",
    "\n",
    "\n",
    "data = [row.strip().split(\",\") for row in open(\"sample.txt\", \"r\").readlines()]\n",
    "data = [list(map(int, row)) for row in data]\n",
    "data = [(row[1], row[0]) for row in data]\n",
    "\n",
    "\n",
    "size = 6\n",
    "steps = 12\n",
    "grid = [[\".\" for j in range(size + 1)] for i in range(size + 1)]\n",
    "\n",
    "for row, col in data[:steps]:\n",
    "    grid[row][col] = \"#\"\n",
    "\n",
    "cost, path = bfs(grid, 0, 0, size, size)\n",
    "cost"
   ]
  },
  {
   "cell_type": "code",
   "execution_count": 149,
   "metadata": {},
   "outputs": [
    {
     "data": {
      "text/plain": [
       "22"
      ]
     },
     "execution_count": 149,
     "metadata": {},
     "output_type": "execute_result"
    }
   ],
   "source": [
    "from collections import deque\n",
    "\n",
    "def adjacent(row, col, max_row, max_col):\n",
    "    near = [(row-1, col), (row, col+1), (row+1, col), (row, col-1)]\n",
    "    return [(r, c) for r, c in near if 0 <= r < max_row and 0 <= c < max_col]\n",
    "\n",
    "def bfs(grid, start_row, start_col, target_row, target_col):\n",
    "    max_row, max_col = len(grid), len(grid[0])\n",
    "    queue = deque([(start_row, start_col, 0, [])])\n",
    "    seen = {(start_row, start_col)}\n",
    "\n",
    "    while queue:\n",
    "        row, col, steps, path = queue.popleft()\n",
    "        path = path + [(row, col)]\n",
    "\n",
    "        if (row, col) == (target_row, target_col):\n",
    "            return path\n",
    "        \n",
    "        for next_row, next_col in adjacent(row, col, max_row, max_col):\n",
    "            if grid[next_row][next_col] == \"#\" or (next_row, next_col) in seen:\n",
    "                continue\n",
    "            seen.add((next_row, next_col))\n",
    "            queue.append((next_row, next_col, steps+1, path))\n",
    "    \n",
    "    return None\n",
    "\n",
    "data = [row.strip().split(\",\") for row in open(\"sample.txt\", \"r\").readlines()]\n",
    "data = [list(map(int, row)) for row in data]\n",
    "data = [(row[1], row[0]) for row in data]\n",
    "\n",
    "\n",
    "size = 6\n",
    "steps = 12\n",
    "grid = [[\".\" for j in range(size + 1)] for i in range(size + 1)]\n",
    "\n",
    "for row, col in data[:steps]:\n",
    "    grid[row][col] = \"#\"\n",
    "\n",
    "path = bfs(grid, 0, 0, size, size)\n",
    "len(path)-1"
   ]
  },
  {
   "cell_type": "markdown",
   "metadata": {},
   "source": [
    "This part triped me up SO MUCH cus I flipped row-col when parsing input. "
   ]
  },
  {
   "cell_type": "code",
   "execution_count": 139,
   "metadata": {},
   "outputs": [
    {
     "name": "stdout",
     "output_type": "stream",
     "text": [
      "22,20\n"
     ]
    }
   ],
   "source": [
    "grid = [[\".\" for j in range(size + 1)] for i in range(size + 1)]\n",
    "for row, col in data:\n",
    "    grid[row][col] = \"#\"\n",
    "    path = bfs(grid, 0, 0, size, size)\n",
    "    if path == None:\n",
    "        print(f\"{col},{row}\")\n",
    "        break"
   ]
  },
  {
   "cell_type": "markdown",
   "metadata": {},
   "source": [
    "Binary search-method also worked!"
   ]
  },
  {
   "cell_type": "code",
   "execution_count": 142,
   "metadata": {},
   "outputs": [
    {
     "name": "stdout",
     "output_type": "stream",
     "text": [
      "22,20\n"
     ]
    }
   ],
   "source": [
    "size = 70\n",
    "grid = [[\".\" for j in range(size + 1)] for i in range(size + 1)]\n",
    "def grid_search(grid, data, steps):\n",
    "    grid_copy = [[\".\" for j in range(size + 1)] for i in range(size + 1)]\n",
    "    for row, col in data[:steps]:\n",
    "        grid_copy[row][col] = \"#\"\n",
    "    \n",
    "    path = bfs(grid_copy, 0, 0, size, size)\n",
    "    \n",
    "    if path == None:\n",
    "        return False\n",
    "    else:\n",
    "        return True\n",
    "\n",
    "lo = 0\n",
    "hi = len(data)\n",
    "\n",
    "while lo < hi:\n",
    "    mi = (lo+hi) // 2\n",
    "    if grid_search(grid, data, mi+1):\n",
    "        lo = mi+1\n",
    "    else: \n",
    "        hi = mi\n",
    "print(f\"{data[lo][1]},{data[lo][0]}\")\n",
    "    "
   ]
  }
 ],
 "metadata": {
  "kernelspec": {
   "display_name": "base",
   "language": "python",
   "name": "python3"
  },
  "language_info": {
   "codemirror_mode": {
    "name": "ipython",
    "version": 3
   },
   "file_extension": ".py",
   "mimetype": "text/x-python",
   "name": "python",
   "nbconvert_exporter": "python",
   "pygments_lexer": "ipython3",
   "version": "3.12.4"
  }
 },
 "nbformat": 4,
 "nbformat_minor": 2
}
