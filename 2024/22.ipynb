{
 "cells": [
  {
   "cell_type": "code",
   "execution_count": 20,
   "metadata": {},
   "outputs": [
    {
     "data": {
      "text/plain": [
       "19822877190"
      ]
     },
     "execution_count": 20,
     "metadata": {},
     "output_type": "execute_result"
    }
   ],
   "source": [
    "from functools import cache\n",
    "from itertools import repeat\n",
    "\n",
    "def mix(value, secret_number):\n",
    "    return value ^ secret_number\n",
    "\n",
    "def prune(secret_number):\n",
    "    return secret_number % 16777216\n",
    "\n",
    "def ith(secret_number, i=2000):\n",
    "    for _ in range(i):\n",
    "        res = secret_number * 64\n",
    "        secret_number = prune(mix(res, secret_number))\n",
    "\n",
    "        res = secret_number//32\n",
    "        secret_number = prune(mix(res, secret_number))\n",
    "\n",
    "        res = secret_number*2048\n",
    "        secret_number = prune(mix(res, secret_number))\n",
    "    return secret_number\n",
    "\n",
    "def last_digit(n):\n",
    "    return n % 10\n",
    "\n",
    "data = [int(row.strip()) for row in open(\"22.txt\", \"r\").readlines()]\n",
    "sum(map(ith, data, repeat(2000, len(data))))\n"
   ]
  },
  {
   "cell_type": "code",
   "execution_count": null,
   "metadata": {},
   "outputs": [],
   "source": []
  }
 ],
 "metadata": {
  "kernelspec": {
   "display_name": "base",
   "language": "python",
   "name": "python3"
  },
  "language_info": {
   "codemirror_mode": {
    "name": "ipython",
    "version": 3
   },
   "file_extension": ".py",
   "mimetype": "text/x-python",
   "name": "python",
   "nbconvert_exporter": "python",
   "pygments_lexer": "ipython3",
   "version": "3.12.4"
  }
 },
 "nbformat": 4,
 "nbformat_minor": 2
}
