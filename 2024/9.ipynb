{
 "cells": [
  {
   "cell_type": "code",
   "execution_count": 26,
   "metadata": {},
   "outputs": [
    {
     "data": {
      "text/plain": [
       "88952281973"
      ]
     },
     "execution_count": 26,
     "metadata": {},
     "output_type": "execute_result"
    }
   ],
   "source": [
    "def decode(input_string):\n",
    "    start_value = 0\n",
    "    start_string = \"\"\n",
    "\n",
    "    for index, value in enumerate(input_string):\n",
    "        if int(index) % 2 != 0:\n",
    "            start_string+= \".\"*int(value)\n",
    "        else:\n",
    "            start_string += str(start_value)*int(value)\n",
    "            start_value += 1\n",
    "        \n",
    "    return start_string\n",
    "\n",
    "def de_frag(decoded_string):\n",
    "    while True:\n",
    "        character = decoded_string[-1]\n",
    "        decoded_string = decoded_string[:-1]\n",
    "        decoded_string = decoded_string.replace(\".\", character, 1)\n",
    "        if decoded_string.find(\".\") == -1:\n",
    "            break\n",
    "    return decoded_string\n",
    "\n",
    "\n",
    "#input_string = \"2333133121414131402\"\n",
    "input_string = open(\"9.txt\", \"r\").read()\n",
    "\n",
    "decoded_string = decode(input_string)\n",
    "blanks_leo = [i for i, x in enumerate(decoded_string) if x == \".\"] \n",
    "defragged_string = de_frag(decoded_string)\n",
    "\n",
    "total = 0\n",
    "for index, value in enumerate(defragged_string):\n",
    "    total += index*int(value)\n",
    "total"
   ]
  },
  {
   "cell_type": "markdown",
   "metadata": {},
   "source": [
    "Does not work! The final calculation becomes wrong since for instance 11 will be interpreted as 1\\*i + 1\\*(i+1). Moving to a list instead of string solves this, but the de_frag with `\".\" in list` becomes veeery slow, around 30s for this input. Instead took a look at HyperNeutrino solution and adapted.\n",
    "\n",
    "Point 1) Checking for blank position, and iteration over the blanks is easier than checking over and over again for blanks."
   ]
  },
  {
   "cell_type": "code",
   "execution_count": 99,
   "metadata": {},
   "outputs": [
    {
     "data": {
      "text/plain": [
       "1928"
      ]
     },
     "execution_count": 99,
     "metadata": {},
     "output_type": "execute_result"
    }
   ],
   "source": [
    "def decode_list(input_string):\n",
    "    start_value = 0\n",
    "    start_list = []\n",
    "\n",
    "    for index, value in enumerate(input_string):\n",
    "        value = int(value)\n",
    "        if int(index) % 2 != 0:\n",
    "            start_list += [\".\"]*value\n",
    "        else:\n",
    "            start_list += [start_value]*value\n",
    "            start_value += 1\n",
    "        \n",
    "    return start_list\n",
    "\n",
    "def de_frag_list(decoded_list):\n",
    "    blanks =  [i for i, x in enumerate(decoded_list) if x == \".\"] \n",
    "\n",
    "    for i in blanks:\n",
    "        while decoded_list[-1] == \".\": \n",
    "            decoded_list.pop() \n",
    "        if len(decoded_list) <= i: \n",
    "            break \n",
    "        decoded_list[i] = decoded_list.pop()\n",
    "\n",
    "    return decoded_list\n",
    "\n",
    "#input_string = open(\"9.txt\", \"r\").read()\n",
    "\n",
    "decoded_list = decode_list(\"2333133121414131402\")\n",
    "defragged_list = de_frag_list(decoded_list)\n",
    "\n",
    "total = 0\n",
    "for index, value in enumerate(defragged_list):\n",
    "    total += index*value\n",
    "total"
   ]
  },
  {
   "cell_type": "code",
   "execution_count": 102,
   "metadata": {},
   "outputs": [
    {
     "name": "stdout",
     "output_type": "stream",
     "text": [
      "[0, 0, '.', '.', '.', 1, 1, 1, '.', '.', '.', 2, '.', '.', '.', 3, 3, 3, '.', 4, 4, '.', 5, 5, 5, 5, '.', 6, 6, 6, 6, '.', 7, 7, 7, '.', 8, 8, 8, 8, 9, 9]\n"
     ]
    }
   ],
   "source": [
    "print(decode_list(\"2333133121414131402\"))"
   ]
  },
  {
   "cell_type": "markdown",
   "metadata": {},
   "source": [
    "# Part2"
   ]
  },
  {
   "cell_type": "code",
   "execution_count": 103,
   "metadata": {},
   "outputs": [
    {
     "name": "stdout",
     "output_type": "stream",
     "text": [
      "[[0, 0], ['.', '.', '.'], [1, 1, 1], ['.', '.', '.'], [2], ['.', '.', '.'], [3, 3, 3], ['.'], [4, 4], ['.'], [5, 5, 5, 5], ['.'], [6, 6, 6, 6], ['.'], [7, 7, 7], ['.'], [8, 8, 8, 8], [], [9, 9]]\n"
     ]
    }
   ],
   "source": [
    "def decode_list(input_string):\n",
    "    start_value = 0\n",
    "    start_list = []\n",
    "\n",
    "    for index, value in enumerate(input_string):\n",
    "        value = int(value)\n",
    "        if int(index) % 2 != 0:\n",
    "            start_list.append([\".\"]*value)\n",
    "        else:\n",
    "            start_list.append([start_value]*value)\n",
    "            start_value += 1\n",
    "        \n",
    "    return start_list\n",
    "\n",
    "print(decode_list(\"2333133121414131402\"))"
   ]
  },
  {
   "cell_type": "markdown",
   "metadata": {},
   "source": [
    "# HyperNeutrino solution:"
   ]
  },
  {
   "cell_type": "code",
   "execution_count": 85,
   "metadata": {},
   "outputs": [
    {
     "data": {
      "text/plain": [
       "6216544403458"
      ]
     },
     "execution_count": 85,
     "metadata": {},
     "output_type": "execute_result"
    }
   ],
   "source": [
    "input_string = open(\"9.txt\", \"r\").read()\n",
    "\n",
    "disk = []\n",
    "fid = 0\n",
    "for i, char in enumerate(input_string):\n",
    "    x = int(char)\n",
    "    if i % 2 == 0:\n",
    "        disk += [fid] * x\n",
    "        fid += 1\n",
    "    else:\n",
    "        disk +=  [-1] * x\n",
    "\n",
    "blanks = [i for i, x in enumerate(disk) if x == -1] \n",
    "\n",
    "for i in blanks:\n",
    "    while disk[-1] == -1: disk.pop()\n",
    "    if len(disk) <= i: break\n",
    "    disk[i] = disk.pop()\n",
    "\n",
    "sum([i*x for i, x in enumerate(disk)])"
   ]
  },
  {
   "cell_type": "code",
   "execution_count": null,
   "metadata": {},
   "outputs": [],
   "source": [
    "for value in [1,5,8,17]:\n",
    "    print(i)\n",
    "\n",
    "\n"
   ]
  }
 ],
 "metadata": {
  "language_info": {
   "name": "python"
  }
 },
 "nbformat": 4,
 "nbformat_minor": 2
}
