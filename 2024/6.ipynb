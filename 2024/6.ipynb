{
 "cells": [
  {
   "cell_type": "code",
   "execution_count": 4,
   "metadata": {},
   "outputs": [
    {
     "data": {
      "text/plain": [
       "3"
      ]
     },
     "execution_count": 4,
     "metadata": {},
     "output_type": "execute_result"
    }
   ],
   "source": [
    "import numpy as np\n",
    "A_prim = np.array([1,1,1])\n",
    "B_prim = np.array([1,1,1])\n",
    "A_prim @ B_prim.T"
   ]
  },
  {
   "cell_type": "code",
   "execution_count": 11,
   "metadata": {},
   "outputs": [
    {
     "data": {
      "text/plain": [
       "(array([['.', '.', '.', '.', '#', '.', '.', '.', '.', '.'],\n",
       "        ['.', '.', '.', '.', '.', '.', '.', '.', '.', '#'],\n",
       "        ['.', '.', '.', '.', '.', '.', '.', '.', '.', '.'],\n",
       "        ['.', '.', '#', '.', '.', '.', '.', '.', '.', '.'],\n",
       "        ['.', '.', '.', '.', '.', '.', '.', '#', '.', '.'],\n",
       "        ['.', '.', '.', '.', '.', '.', '.', '.', '.', '.'],\n",
       "        ['.', '#', '.', '.', '^', '.', '.', '.', '.', '.'],\n",
       "        ['.', '.', '.', '.', '.', '.', '.', '.', '#', '.'],\n",
       "        ['#', '.', '.', '.', '.', '.', '.', '.', '.', '.'],\n",
       "        ['.', '.', '.', '.', '.', '.', '#', '.', '.', '.']], dtype='<U1'),\n",
       " (6, 4))"
      ]
     },
     "execution_count": 11,
     "metadata": {},
     "output_type": "execute_result"
    }
   ],
   "source": [
    "import numpy as np\n",
    "\n",
    "# Read the file and split into lines\n",
    "with open('sample.txt', 'r') as file:\n",
    "    lines = file.read().splitlines()\n",
    "\n",
    "# Convert each line into a list of characters\n",
    "char_arrays = [list(line) for line in lines]\n",
    "\n",
    "# Convert the list of lists into a NumPy array\n",
    "result = np.array(char_arrays)\n",
    "\n",
    "starting_position = np.where(result == \"^\")\n",
    "starting_position = starting_position[0][0], starting_position[1][0]\n",
    "starting_position\n",
    "\n",
    "def cell_right(starting_position):\n",
    "    return starting_position[0], starting_position[1]+1\n",
    "\n",
    "def cell_left(starting_position):\n",
    "    return starting_position[0], starting_position[1]-1\n",
    "\n",
    "def cell_above(starting_position):\n",
    "    return starting_position[0]-1, starting_position[1]\n",
    "\n",
    "def cell_below(starting_position):\n",
    "    return starting_position[0]+1, starting_position[1]\n",
    "\n",
    "\n",
    "def rotate(character):\n",
    "    if character == \"^\":\n",
    "        return \">\"\n",
    "    elif character == \">\":\n",
    "        return \"v\"\n",
    "    elif character == \"v\":\n",
    "        return \"<\"\n",
    "    elif character == \"<\":\n",
    "        return \"^\"\n",
    "    else:\n",
    "        print(\"Error! Not valid character\")\n",
    "\n",
    "\n",
    "def move(input_array, position):\n",
    "    # Right\n",
    "    if input_array[position] == \">\":\n",
    "        if input_array[cell_right(position)] == \"#\":\n",
    "            input_array[position] = rotate(input_array[position])\n",
    "            return input_array, position\n",
    "        else:\n",
    "            input_array[cell_right(position)] = \">\"\n",
    "            input_array[position] = \"X\"\n",
    "            new_position = cell_right(position)\n",
    "            return input_array, new_position\n",
    "\n",
    "    # Left\n",
    "    elif input_array[position] ==  \"<\":\n",
    "        if input_array[cell_left(position)] == \"#\":\n",
    "            input_array[position] = rotate(input_array[position])\n",
    "            return input_array, position\n",
    "        else: \n",
    "            input_array[cell_left(position)] = \"<\"\n",
    "            input_array[position] = \"X\"\n",
    "            new_position = cell_left(position)\n",
    "            return input_array, new_position\n",
    "\n",
    "    # Up\n",
    "    elif input_array[position] ==  \"^\":\n",
    "        if input_array[cell_above(position)] == \"#\":\n",
    "            input_array[position] = rotate(input_array[position])\n",
    "            return input_array, position\n",
    "        else:\n",
    "            input_array[cell_above(position)] = \"^\"\n",
    "            input_array[position] = \"X\"\n",
    "            new_position = cell_above(position)\n",
    "            return input_array, new_position\n",
    "    # Down\n",
    "    elif input_array[position] ==  \"v\":\n",
    "        if input_array[cell_below(position)] == \"#\":\n",
    "            input_array[position] = rotate(input_array[position])\n",
    "            return input_array, position\n",
    "        else:\n",
    "            input_array[cell_below(position)] = \"v\"\n",
    "            input_array[position] = \"X\"\n",
    "            new_position = cell_below(position)\n",
    "            return input_array, new_position\n",
    "\n",
    "result, starting_position"
   ]
  },
  {
   "cell_type": "code",
   "execution_count": 12,
   "metadata": {},
   "outputs": [
    {
     "name": "stdout",
     "output_type": "stream",
     "text": [
      "moved of screen below\n"
     ]
    },
    {
     "data": {
      "text/plain": [
       "41"
      ]
     },
     "execution_count": 12,
     "metadata": {},
     "output_type": "execute_result"
    }
   ],
   "source": [
    "max_below = result.shape[0]-1\n",
    "max_right = result.shape[1]-1\n",
    "\n",
    "next_move = move(result.copy(), starting_position)\n",
    "while True:\n",
    "    \n",
    "    next_move = move(next_move[0], next_move[1])\n",
    "    if next_move[1][0] == max_below:\n",
    "        print(\"moved of screen below\")\n",
    "        break\n",
    "    elif next_move[1][0] == 0 :\n",
    "        print(\"moved of screen above\")\n",
    "        break\n",
    "    elif next_move[1][1] == 0:\n",
    "        print(\"moved of screen left\")\n",
    "        break\n",
    "    elif next_move[1][1] == max_right:\n",
    "        print(\"moved of screen right\")\n",
    "        break\n",
    "    \n",
    "(next_move[0] == \"X\").sum() + 1"
   ]
  },
  {
   "cell_type": "markdown",
   "metadata": {},
   "source": [
    "# Part 2"
   ]
  },
  {
   "cell_type": "code",
   "execution_count": 22,
   "metadata": {},
   "outputs": [],
   "source": [
    "def look_ahead_next_obstacle(position, input_array, direction):\n",
    "    # Down:\n",
    "    if direction == \"v\":\n",
    "        obstacle_in_direction = np.isin(\"#\", input_array[position[0]:, position[1]])\n",
    "        if obstacle_in_direction:\n",
    "            next_obstacle = np.where(input_array[position[0]:, position[1]] == \"#\")[0][0]\n",
    "            print(\"down\", input_array[position[0]:next_obstacle, position[1]])\n",
    "            return np.all(input_array[position[0]:next_obstacle, position[1]] == \"X\")\n",
    "        return False\n",
    "\n",
    "    #up\n",
    "    elif direction == \"^\":\n",
    "        obstacle_in_direction = np.isin(\"#\", input_array[:position[0], position[1]])\n",
    "        if obstacle_in_direction:\n",
    "            next_obstacle = np.where(input_array[:position[0], position[1]] == \"#\")[0][0] + 1\n",
    "            print(\"up\", input_array[next_obstacle:position[0], position[1]])\n",
    "            return  np.all(input_array[next_obstacle:position[0], position[1]] == \"X\")\n",
    "        return False\n",
    "\n",
    "    # right\n",
    "    elif direction == \">\":\n",
    "        obstacle_in_direction = np.isin(\"#\", input_array[position[0], position[1]:])\n",
    "        if obstacle_in_direction:\n",
    "            next_obstacle = np.where(input_array[position[0], position[1]:] == \"#\")[0][0]\n",
    "            print(\"right\", input_array[position[0], position[1]:next_obstacle])\n",
    "            return np.all(input_array[position[0], position[1]:next_obstacle] == \"X\")\n",
    "        return False\n",
    "    \n",
    "    # left\n",
    "    elif direction == \"<\":\n",
    "        obstacle_in_direction = np.isin(\"#\", input_array[position[0], :position[1]])\n",
    "        if obstacle_in_direction:\n",
    "            next_obstacle = np.where(input_array[position[0], :position[1]] == \"#\")[0][0]\n",
    "            print(\"left\", input_array[position[0], next_obstacle:position[1]])\n",
    "            return np.all(input_array[position[0], next_obstacle:position[1]] == \"X\")\n",
    "        return False"
   ]
  },
  {
   "cell_type": "code",
   "execution_count": 23,
   "metadata": {},
   "outputs": [],
   "source": [
    "def move(input_array, position, Loop = False):\n",
    "    # Right\n",
    "    if input_array[position] == \">\":\n",
    "        if input_array[cell_right(position)] == \"#\":\n",
    "            input_array[position] = rotate(input_array[position])\n",
    "            if input_array[cell_below(position)] == \"X\":\n",
    "                return input_array, position, look_ahead_next_obstacle(position, input_array, \"v\")\n",
    "            return input_array, position, False\n",
    "        else:\n",
    "            input_array[cell_right(position)] = \">\"\n",
    "            input_array[position] = \"X\"\n",
    "            new_position = cell_right(position)\n",
    "            return input_array, new_position, False\n",
    "\n",
    "    # Left\n",
    "    elif input_array[position] ==  \"<\":\n",
    "        if input_array[cell_left(position)] == \"#\":\n",
    "            input_array[position] = rotate(input_array[position])\n",
    "            if input_array[cell_above(position)] == \"X\":\n",
    "                return input_array, position, look_ahead_next_obstacle(position, input_array, \"^\")\n",
    "            return input_array, position, False\n",
    "        else: \n",
    "            input_array[cell_left(position)] = \"<\"\n",
    "            input_array[position] = \"X\"\n",
    "            new_position = cell_left(position)\n",
    "            return input_array, new_position, False\n",
    "\n",
    "    # Up\n",
    "    elif input_array[position] ==  \"^\":\n",
    "        if input_array[cell_above(position)] == \"#\":\n",
    "            input_array[position] = rotate(input_array[position])\n",
    "            if input_array[cell_right(position)] == \"X\":\n",
    "                return input_array, position, look_ahead_next_obstacle(position, input_array, \">\")\n",
    "            return input_array, position, False\n",
    "        else:\n",
    "            input_array[cell_above(position)] = \"^\"\n",
    "            input_array[position] = \"X\"\n",
    "            new_position = cell_above(position)\n",
    "            return input_array, new_position, False\n",
    "    # Down\n",
    "    elif input_array[position] ==  \"v\":\n",
    "        if input_array[cell_below(position)] == \"#\":\n",
    "            input_array[position] = rotate(input_array[position])\n",
    "            if input_array[cell_left(position)] == \"X\":\n",
    "                return input_array, position, look_ahead_next_obstacle(position, input_array, \"<\")\n",
    "            return input_array, position, False\n",
    "        else:\n",
    "            input_array[cell_below(position)] = \"v\"\n",
    "            input_array[position] = \"X\"\n",
    "            new_position = cell_below(position)\n",
    "            return input_array, new_position, False\n",
    "\n",
    "def check_location(result, starting_position):\n",
    "    max_below = result.shape[0]-1\n",
    "    max_right = result.shape[1]-1\n",
    "\n",
    "    next_move = move(result, starting_position, False)\n",
    "    while True:\n",
    "        \n",
    "        next_move = move(next_move[0], next_move[1], next_move[2])\n",
    "        if next_move[1][0] == max_below:\n",
    "            return 0\n",
    "        elif next_move[1][0] == 0 :\n",
    "            return 0\n",
    "        elif next_move[1][1] == 0:\n",
    "            return 0\n",
    "        elif next_move[1][1] == max_right:\n",
    "            return 0\n",
    "        elif next_move[2]:\n",
    "            return 1"
   ]
  },
  {
   "cell_type": "code",
   "execution_count": 24,
   "metadata": {},
   "outputs": [
    {
     "name": "stdout",
     "output_type": "stream",
     "text": [
      "up ['X' 'X' 'X' 'X' 'X']\n",
      "left ['#' 'X' 'X' 'X' 'X']\n",
      "up ['X' 'X']\n",
      "down []\n",
      "right ['>' 'X' 'X']\n",
      "down ['v']\n",
      "left ['#' '#' 'X' 'X' 'X' 'X']\n",
      "up ['X' 'X' 'X' 'X']\n",
      "right ['>']\n",
      "down ['v' 'X' 'X' 'X' 'X']\n",
      "left ['#' 'X' 'X' 'X' 'X' 'X' 'X']\n",
      "up ['X' 'X']\n",
      "left ['#' 'X' 'X' 'X' 'X' 'X' 'X']\n",
      "up ['X']\n",
      "6\n"
     ]
    }
   ],
   "source": [
    "creates_loop = 0\n",
    "for row in range(result.shape[0]):\n",
    "    for col in range(result.shape[1]):\n",
    "        if result[row, col] == \"#\" or (row, col) == starting_position:\n",
    "            continue\n",
    "        else:\n",
    "            new_input = result.copy()\n",
    "            new_input[row, col] = \"#\"\n",
    "            loop = check_location(new_input, starting_position)\n",
    "            creates_loop += loop\n",
    "print(creates_loop)"
   ]
  },
  {
   "cell_type": "code",
   "execution_count": 13,
   "metadata": {},
   "outputs": [],
   "source": [
    "test_map = result.copy()\n",
    "test_map[6, 3] = \"#\"\n",
    "test_map\n",
    "\n",
    "check_location(test_map, starting_position)"
   ]
  },
  {
   "cell_type": "code",
   "execution_count": 25,
   "metadata": {},
   "outputs": [
    {
     "data": {
      "text/plain": [
       "array([1, 2, 3, 4, 5, 6, 7, 8])"
      ]
     },
     "execution_count": 25,
     "metadata": {},
     "output_type": "execute_result"
    }
   ],
   "source": [
    "a = np.array([1,2,3,4,5,6,7,8])\n",
    "a"
   ]
  },
  {
   "cell_type": "code",
   "execution_count": 32,
   "metadata": {},
   "outputs": [
    {
     "data": {
      "text/plain": [
       "array([7, 6, 5, 4, 3])"
      ]
     },
     "execution_count": 32,
     "metadata": {},
     "output_type": "execute_result"
    }
   ],
   "source": [
    "a[6:1:-1]"
   ]
  },
  {
   "cell_type": "code",
   "execution_count": null,
   "metadata": {},
   "outputs": [],
   "source": []
  }
 ],
 "metadata": {
  "kernelspec": {
   "display_name": "base",
   "language": "python",
   "name": "python3"
  },
  "language_info": {
   "codemirror_mode": {
    "name": "ipython",
    "version": 3
   },
   "file_extension": ".py",
   "mimetype": "text/x-python",
   "name": "python",
   "nbconvert_exporter": "python",
   "pygments_lexer": "ipython3",
   "version": "3.12.4"
  }
 },
 "nbformat": 4,
 "nbformat_minor": 2
}
