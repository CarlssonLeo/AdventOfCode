{
 "cells": [
  {
   "cell_type": "code",
   "execution_count": 152,
   "metadata": {},
   "outputs": [
    {
     "data": {
      "text/plain": [
       "92779830"
      ]
     },
     "execution_count": 152,
     "metadata": {},
     "output_type": "execute_result"
    }
   ],
   "source": [
    "import re\n",
    "import numpy as np\n",
    "\n",
    "def ith_pos(p, v, i):\n",
    "    next_pos = (np.array(p) + i*np.array(v))\n",
    "    return next_pos[0] % max_row, next_pos[1] % max_col\n",
    "\n",
    "data = open(\"14.txt\", \"r\").readlines()\n",
    "\n",
    "max_row = 103\n",
    "max_col = 101\n",
    "midpoint_col = max_col // 2\n",
    "midpoint_row = max_row // 2\n",
    "\n",
    "z_array = np.zeros([max_row, max_col])\n",
    "\n",
    "for robot in data:\n",
    "    robot = robot.strip() \n",
    "    p = re.findall(r\"p=\\d+,\\d+\", robot)\n",
    "    p = tuple(map(int, re.findall(r\"\\d+\", p[0])))\n",
    "    p = tuple(np.array(p)[::-1])\n",
    "\n",
    "    v = re.findall(r\"v=[-]?\\d+,[-]?\\d+\", robot)\n",
    "    v = tuple(map(int, re.findall(r\"[-]?\\d+\", v[0])))\n",
    "    v = tuple(np.array(v)[::-1])\n",
    "\n",
    "    z_array[ith_pos(p, v, 7753)] += 1\n",
    "\n",
    "ne = z_array[:midpoint_row, midpoint_col+1:].sum()\n",
    "se = z_array[midpoint_row+1:, midpoint_col+1:].sum()\n",
    "nw = z_array[:midpoint_row, :midpoint_col].sum()\n",
    "sw = z_array[midpoint_row+1:, :midpoint_col].sum()\n",
    "\n",
    "int(se*sw*ne*nw)\n",
    "    \n"
   ]
  },
  {
   "cell_type": "code",
   "execution_count": 156,
   "metadata": {},
   "outputs": [
    {
     "data": {
      "text/plain": [
       "373681577025000000"
      ]
     },
     "execution_count": 156,
     "metadata": {},
     "output_type": "execute_result"
    }
   ],
   "source": [
    "import re\n",
    "import numpy as np\n",
    "\n",
    "def ith_pos(p, v, i):\n",
    "    next_pos = (np.array(p) + i*np.array(v))\n",
    "    return next_pos % np.array([max_row, max_col])\n",
    "\n",
    "data = open(\"14.txt\", \"r\").readlines()\n",
    "\n",
    "max_row = 103\n",
    "max_col = 101\n",
    "midpoint_col = max_col // 2\n",
    "midpoint_row = max_row // 2\n",
    "\n",
    "z_array = np.zeros([max_row, max_col])\n",
    "\n",
    "for robot in data:\n",
    "    robot = robot.strip() \n",
    "    p = re.findall(r\"p=\\d+,\\d+\", robot)\n",
    "    p = tuple(map(int, re.findall(r\"\\d+\", p[0])))\n",
    "    p = tuple(np.array(p)[::-1])\n",
    "\n",
    "    v = re.findall(r\"v=[-]?\\d+,[-]?\\d+\", robot)\n",
    "    v = tuple(map(int, re.findall(r\"[-]?\\d+\", v[0])))\n",
    "    v = tuple(np.array(v)[::-1])\n",
    "\n",
    "    z_array[ith_pos(p, v, 100)] += 1\n",
    "\n",
    "ne = z_array[:midpoint_row, midpoint_col+1:].sum()\n",
    "se = z_array[midpoint_row+1:, midpoint_col+1:].sum()\n",
    "nw = z_array[:midpoint_row, :midpoint_col].sum()\n",
    "sw = z_array[midpoint_row+1:, :midpoint_col].sum()\n",
    "\n",
    "int(se*sw*ne*nw)"
   ]
  },
  {
   "cell_type": "code",
   "execution_count": 150,
   "metadata": {},
   "outputs": [
    {
     "data": {
      "image/png": "[encoded data removed]",
      "text/plain": [
       "<Figure size 470.68x480 with 1 Axes>"
      ]
     },
     "metadata": {},
     "output_type": "display_data"
    }
   ],
   "source": [
    "import matplotlib.pyplot as plt\n",
    "\n",
    "data = open(\"14.txt\", \"r\").readlines()\n",
    "\n",
    "max_row = 103\n",
    "max_col = 101\n",
    "midpoint_col = max_col // 2\n",
    "midpoint_row = max_row // 2\n",
    "\n",
    "i = 1\n",
    "\n",
    "while True:\n",
    "    z_array = np.zeros([max_row, max_col])\n",
    "    for robot in data:\n",
    "        robot = robot.strip() \n",
    "        p = re.findall(r\"p=\\d+,\\d+\", robot)\n",
    "        p = tuple(map(int, re.findall(r\"\\d+\", p[0])))\n",
    "        p = tuple(np.array(p)[::-1])\n",
    "\n",
    "        v = re.findall(r\"v=[-]?\\d+,[-]?\\d+\", robot)\n",
    "        v = tuple(map(int, re.findall(r\"[-]?\\d+\", v[0])))\n",
    "        v = tuple(np.array(v)[::-1])\n",
    "\n",
    "        z_array[ith_pos(p, v, i)] += 1\n",
    "\n",
    "    if np.all(np.isin(z_array, [0, 1])):\n",
    "        break\n",
    "    else:\n",
    "        i += 1\n",
    "\n",
    "plt.matshow(z_array)\n",
    "plt.show()"
   ]
  },
  {
   "cell_type": "code",
   "execution_count": 151,
   "metadata": {},
   "outputs": [
    {
     "data": {
      "text/plain": [
       "7753"
      ]
     },
     "execution_count": 151,
     "metadata": {},
     "output_type": "execute_result"
    }
   ],
   "source": [
    "i"
   ]
  },
  {
   "cell_type": "code",
   "execution_count": 155,
   "metadata": {},
   "outputs": [
    {
     "data": {
      "text/plain": [
       "array([1, 2])"
      ]
     },
     "execution_count": 155,
     "metadata": {},
     "output_type": "execute_result"
    }
   ],
   "source": [
    "np.array([5, 2]) % np.array([4, 4])"
   ]
  },
  {
   "cell_type": "code",
   "execution_count": null,
   "metadata": {},
   "outputs": [],
   "source": []
  }
 ],
 "metadata": {
  "kernelspec": {
   "display_name": "base",
   "language": "python",
   "name": "python3"
  },
  "language_info": {
   "codemirror_mode": {
    "name": "ipython",
    "version": 3
   },
   "file_extension": ".py",
   "mimetype": "text/x-python",
   "name": "python",
   "nbconvert_exporter": "python",
   "pygments_lexer": "ipython3",
   "version": "3.12.4"
  }
 },
 "nbformat": 4,
 "nbformat_minor": 2
}
