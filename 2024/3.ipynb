{
 "cells": [
  {
   "cell_type": "code",
   "execution_count": 90,
   "metadata": {},
   "outputs": [
    {
     "data": {
      "text/plain": [
       "49416743"
      ]
     },
     "execution_count": 90,
     "metadata": {},
     "output_type": "execute_result"
    }
   ],
   "source": [
    "import re\n",
    "import numpy as np\n",
    "\n",
    "text = open(\"3.txt\", \"r\").read()\n",
    "sample = \"xmul(2,4)%&mul[3,7]!@^do_not_mul(5,5)+mul(32,64]then(mul(11,8)mul(8,5))\"\n",
    "\n",
    "lst1 = re.findall(r\"mul\\(\\d+,\\d+\\)\", re.sub(r\"don't\\(\\).*do\\(\\)\", \"\", text))\n",
    "arr1 = np.array([np.array(re.findall(r\"\\d+\", x), dtype=np.int64) for x in lst1])\n",
    "np.apply_along_axis(np.prod, 1, arr1).sum()"
   ]
  },
  {
   "cell_type": "code",
   "execution_count": 91,
   "metadata": {},
   "outputs": [
    {
     "data": {
      "text/plain": [
       "92626942"
      ]
     },
     "execution_count": 91,
     "metadata": {},
     "output_type": "execute_result"
    }
   ],
   "source": [
    "import re\n",
    "import numpy as np\n",
    "\n",
    "text = open(\"3.txt\", \"r\").read()\n",
    "lst1 = re.findall(r\"mul\\(\\d+,\\d+\\)|do\\(\\)|don't\\(\\)\", text)\n",
    "\n",
    "res = []\n",
    "add = True\n",
    "for i in lst1:\n",
    "    if i == \"don't()\":\n",
    "        add = False\n",
    "    elif i == \"do()\":\n",
    "        add = True\n",
    "    else:\n",
    "        if add:\n",
    "            res.append(i)\n",
    "res\n",
    "\n",
    "arr1 = np.array([np.array(re.findall(r\"\\d+\", x), dtype=np.int64) for x in res])\n",
    "np.apply_along_axis(np.prod, 1, arr1).sum()"
   ]
  },
  {
   "cell_type": "code",
   "execution_count": 71,
   "metadata": {},
   "outputs": [
    {
     "data": {
      "text/plain": [
       "['mul(2,4)', 'mul(8,5)']"
      ]
     },
     "execution_count": 71,
     "metadata": {},
     "output_type": "execute_result"
    }
   ],
   "source": [
    "re.findall(r\"mul\\(\\d+,\\d+\\)\", re.sub(r\"don't\\(\\).*do\\(\\)\", \"\", sample))"
   ]
  },
  {
   "cell_type": "code",
   "execution_count": 81,
   "metadata": {},
   "outputs": [
    {
     "data": {
      "text/plain": [
       "['mul(2,4)', 'mul(8,5)']"
      ]
     },
     "execution_count": 81,
     "metadata": {},
     "output_type": "execute_result"
    }
   ],
   "source": [
    "sample = \"xmul(2,4)&mul[3,7]!^don't()_mul(5,5)+mul(32,64](mul(11,8)undo()?mul(8,5))\"\n",
    "lst1 = re.findall(r\"mul\\(\\d+,\\d+\\)|do\\(\\)|don't\\(\\)\", sample)\n",
    "res = []\n",
    "add = True\n",
    "for i in lst1:\n",
    "    if i == \"don't()\":\n",
    "        add = False\n",
    "    elif i == \"do()\":\n",
    "        add = True\n",
    "    else:\n",
    "        if add:\n",
    "            res.append(i)\n",
    "res"
   ]
  },
  {
   "cell_type": "code",
   "execution_count": null,
   "metadata": {},
   "outputs": [],
   "source": []
  }
 ],
 "metadata": {
  "kernelspec": {
   "display_name": "base",
   "language": "python",
   "name": "python3"
  },
  "language_info": {
   "codemirror_mode": {
    "name": "ipython",
    "version": 3
   },
   "file_extension": ".py",
   "mimetype": "text/x-python",
   "name": "python",
   "nbconvert_exporter": "python",
   "pygments_lexer": "ipython3",
   "version": "3.12.4"
  }
 },
 "nbformat": 4,
 "nbformat_minor": 2
}
