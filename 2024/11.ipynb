{
 "cells": [
  {
   "cell_type": "code",
   "execution_count": 53,
   "metadata": {},
   "outputs": [
    {
     "data": {
      "text/plain": [
       "198075"
      ]
     },
     "execution_count": 53,
     "metadata": {},
     "output_type": "execute_result"
    }
   ],
   "source": [
    "data = [2701, 64945, 0, 9959979, 93, 781524, 620, 1]\n",
    "def num_splitter(num):\n",
    "    num_str =  str(num)\n",
    "    num_len = int(len(num_str)/2)\n",
    "    left, right = int(num_str[:num_len]), int(num_str[num_len:])\n",
    "    return left, right\n",
    "\n",
    "def stone_rules(data):\n",
    "    lst = []\n",
    "\n",
    "    for num in data:\n",
    "        if num == 0:\n",
    "            lst += [1]\n",
    "        elif len(str(num)) % 2 == 0:\n",
    "            left, right = num_splitter(num)\n",
    "            lst += [left, right]\n",
    "        else: \n",
    "            lst += [num*2024]\n",
    "\n",
    "    return lst\n",
    "\n",
    "for i in range(25):\n",
    "    data = stone_rules(data)\n",
    "len(data)"
   ]
  },
  {
   "cell_type": "code",
   "execution_count": 75,
   "metadata": {},
   "outputs": [
    {
     "data": {
      "text/plain": [
       "235571309320764"
      ]
     },
     "execution_count": 75,
     "metadata": {},
     "output_type": "execute_result"
    }
   ],
   "source": [
    "from functools import cache\n",
    "data = [2701, 64945, 0, 9959979, 93, 781524, 620, 1]\n",
    "\n",
    "@cache\n",
    "def stone_rules(stone, i):\n",
    "    if i == 0:\n",
    "        return 1\n",
    "        \n",
    "    if stone == 0:\n",
    "        return stone_rules(1, i-1)\n",
    "\n",
    "    elif len(str(stone)) % 2 == 0:\n",
    "        left, right = num_splitter(stone)\n",
    "        return stone_rules(left, i-1) + stone_rules(right, i-1)\n",
    "\n",
    "    else: \n",
    "        return stone_rules(stone*2024, i-1)\n",
    "\n",
    "sum([stone_rules(stone, 75) for stone in data])"
   ]
  },
  {
   "cell_type": "code",
   "execution_count": null,
   "metadata": {},
   "outputs": [],
   "source": []
  }
 ],
 "metadata": {
  "kernelspec": {
   "display_name": "base",
   "language": "python",
   "name": "python3"
  },
  "language_info": {
   "codemirror_mode": {
    "name": "ipython",
    "version": 3
   },
   "file_extension": ".py",
   "mimetype": "text/x-python",
   "name": "python",
   "nbconvert_exporter": "python",
   "pygments_lexer": "ipython3",
   "version": "3.12.4"
  }
 },
 "nbformat": 4,
 "nbformat_minor": 2
}
