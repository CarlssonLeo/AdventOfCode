{
 "cells": [
  {
   "cell_type": "code",
   "execution_count": 39,
   "metadata": {},
   "outputs": [
    {
     "name": "stdout",
     "output_type": "stream",
     "text": [
      "Starting pathfinding\n",
      "93436\n"
     ]
    }
   ],
   "source": [
    "import heapq\n",
    "data = open(\"16.txt\", \"r\").readlines()\n",
    "data = [list(line.strip()) for line in data]\n",
    "\n",
    "for row in range(len(data)):\n",
    "    for col in range(len(data)):\n",
    "        if data[row][col] == \"S\":\n",
    "            start = (row, col)\n",
    "        if data[row][col] == \"E\":\n",
    "            goal = (row, col)\n",
    "\n",
    "print(\"Starting pathfinding\")\n",
    "# Dijkstra from Hyperneutrino\n",
    "# Want to add: way to get the path?\n",
    "pq = [(0, start, 0, 1)]\n",
    "seen = {start, 0, 1}\n",
    "path = [start]\n",
    "\n",
    "while pq:\n",
    "    cost, (row, col), change_row, change_col = heapq.heappop(pq)\n",
    "    seen.add((row, col, change_row, change_col))\n",
    "\n",
    "    if (row, col) == goal:\n",
    "        print(cost)\n",
    "        break\n",
    "\n",
    "    movements = [\n",
    "        (cost+1, row + change_row, col + change_col, change_row, change_col), # Continue forward\n",
    "        (cost + 1000, row, col, change_col, -change_row), # Turn one way\n",
    "        (cost + 1000, row, col, -change_col, change_row)  # Turn other way \n",
    "        ]                                                 # Unsure WHICH way is which?\n",
    " \n",
    "    for new_cost, new_row, new_col, new_change_row, new_change_col in movements:\n",
    "        if data[new_row][new_col] == \"#\": continue\n",
    "        if (new_row, new_col, new_change_row, new_change_col) in seen: continue\n",
    "        heapq.heappush(pq, (new_cost, (new_row, new_col), new_change_row, new_change_col))\n",
    "     "
   ]
  },
  {
   "cell_type": "code",
   "execution_count": 63,
   "metadata": {},
   "outputs": [
    {
     "name": "stdout",
     "output_type": "stream",
     "text": [
      "Starting pathfinding\n",
      "Cost: 7036\n",
      "Path: [(13, 1)]\n"
     ]
    }
   ],
   "source": [
    "import heapq\n",
    "\n",
    "# Read the data from the file\n",
    "data = open(\"sample.txt\", \"r\").readlines()\n",
    "data = [list(line.strip()) for line in data]\n",
    "\n",
    "# Find the start and goal positions\n",
    "for row in range(len(data)):\n",
    "    for col in range(len(data[0])):\n",
    "        if data[row][col] == \"S\":\n",
    "            start = (row, col)\n",
    "        if data[row][col] == \"E\":\n",
    "            goal = (row, col)\n",
    "\n",
    "print(\"Starting pathfinding\")\n",
    "\n",
    "# Priority queue for Dijkstra's algorithm\n",
    "pq = [(0, start, 0, 1)]\n",
    "seen = {(start, 0, 1)}\n",
    "prev = {}  # Dictionary to keep track of the previous node\n",
    "\n",
    "while pq:\n",
    "    cost, (row, col), change_row, change_col = heapq.heappop(pq)\n",
    "    seen.add((row, col, change_row, change_col))\n",
    "\n",
    "    if (row, col) == goal:\n",
    "        print(\"Cost:\", cost)\n",
    "        break\n",
    "\n",
    "    movements = [\n",
    "        (cost + 1, row + change_row, col + change_col, change_row, change_col),  # Continue forward\n",
    "        (cost + 1000, row, col, change_col, -change_row),  # Turn one way\n",
    "        (cost + 1000, row, col, -change_col, change_row)  # Turn other way\n",
    "    ]\n",
    "\n",
    "    for new_cost, new_row, new_col, new_change_row, new_change_col in movements:\n",
    "        if data[new_row][new_col] == \"#\":\n",
    "            continue\n",
    "        if (new_row, new_col, new_change_row, new_change_col) in seen:\n",
    "            continue\n",
    "        heapq.heappush(pq, (new_cost, (new_row, new_col), new_change_row, new_change_col))\n",
    "        prev[(new_row, new_col)] = [new_cost, cost, (row, col)]\n",
    "\n",
    "# Reconstruct the path\n",
    "path = []\n",
    "current = (goal[0], goal[1], 0, 1)  # Start from the goal\n",
    "while current in prev:\n",
    "    path.append((current[0], current[1]))\n",
    "    current = prev[current]\n",
    "path.append(start)\n",
    "path.reverse()\n",
    "\n",
    "print(\"Path:\", path)"
   ]
  },
  {
   "cell_type": "code",
   "execution_count": 64,
   "metadata": {},
   "outputs": [
    {
     "data": {
      "text/plain": [
       "{(13, 2): [2001, 1001, (13, 2)],\n",
       " (13, 1): [2000, 1000, (13, 1)],\n",
       " (13, 3): [2002, 1002, (13, 3)],\n",
       " (12, 1): [3001, 2001, (12, 1)],\n",
       " (11, 1): [3002, 2002, (11, 1)],\n",
       " (10, 1): [3003, 2003, (10, 1)],\n",
       " (9, 1): [3004, 2004, (9, 1)],\n",
       " (11, 2): [4003, 3003, (11, 2)],\n",
       " (11, 3): [4004, 3004, (11, 3)],\n",
       " (9, 2): [4005, 3005, (9, 2)],\n",
       " (11, 4): [4005, 3005, (11, 4)],\n",
       " (9, 3): [4006, 3006, (9, 3)],\n",
       " (11, 5): [4006, 3006, (11, 5)],\n",
       " (10, 3): [4007, 3007, (10, 3)],\n",
       " (8, 3): [5007, 4007, (8, 3)],\n",
       " (10, 5): [5007, 4007, (10, 5)],\n",
       " (12, 5): [5007, 4007, (12, 5)],\n",
       " (7, 3): [5008, 4008, (7, 3)],\n",
       " (9, 5): [5008, 4008, (9, 5)],\n",
       " (13, 5): [5008, 4008, (13, 5)],\n",
       " (6, 3): [5009, 4009, (6, 3)],\n",
       " (8, 5): [5009, 4009, (8, 5)],\n",
       " (5, 3): [5010, 4010, (5, 3)],\n",
       " (7, 5): [5010, 4010, (7, 5)],\n",
       " (7, 2): [6009, 5009, (7, 2)],\n",
       " (7, 4): [5011, 4011, (7, 4)],\n",
       " (9, 6): [6009, 5009, (9, 6)],\n",
       " (13, 6): [6009, 5009, (13, 6)],\n",
       " (7, 1): [6010, 5010, (7, 1)],\n",
       " (9, 7): [6010, 5010, (9, 7)],\n",
       " (13, 7): [6010, 5010, (13, 7)],\n",
       " (7, 6): [6011, 5011, (7, 6)],\n",
       " (9, 8): [6011, 5011, (9, 8)],\n",
       " (13, 8): [6011, 5011, (13, 8)],\n",
       " (7, 7): [6012, 5012, (7, 7)],\n",
       " (9, 9): [6012, 5012, (9, 9)],\n",
       " (13, 9): [6012, 5012, (13, 9)],\n",
       " (7, 8): [6013, 5013, (7, 8)],\n",
       " (7, 9): [6014, 5014, (7, 9)],\n",
       " (7, 10): [6015, 5015, (7, 10)],\n",
       " (7, 11): [6016, 5016, (7, 11)],\n",
       " (6, 1): [7011, 6011, (6, 1)],\n",
       " (12, 7): [7011, 6011, (12, 7)],\n",
       " (5, 1): [7012, 6012, (5, 1)],\n",
       " (11, 7): [7012, 6012, (11, 7)],\n",
       " (4, 1): [7013, 6013, (4, 1)],\n",
       " (10, 9): [6015, 5015, (10, 9)],\n",
       " (12, 9): [6015, 5015, (12, 9)],\n",
       " (3, 1): [7014, 6014, (3, 1)],\n",
       " (11, 9): [6014, 6013, (11, 8)],\n",
       " (2, 1): [7015, 6015, (2, 1)],\n",
       " (6, 9): [7015, 6015, (6, 9)],\n",
       " (1, 1): [7016, 6016, (1, 1)],\n",
       " (5, 9): [7016, 6016, (5, 9)],\n",
       " (8, 11): [7017, 6017, (8, 11)],\n",
       " (9, 11): [7018, 6018, (9, 11)],\n",
       " (10, 11): [7019, 6019, (10, 11)],\n",
       " (11, 11): [7020, 6020, (11, 11)],\n",
       " (12, 11): [7021, 6021, (12, 11)],\n",
       " (13, 11): [7022, 6022, (13, 11)],\n",
       " (11, 8): [7015, 6015, (11, 8)],\n",
       " (3, 2): [8015, 7015, (3, 2)],\n",
       " (3, 3): [8016, 7016, (3, 3)],\n",
       " (1, 2): [8017, 7017, (1, 2)],\n",
       " (3, 4): [8017, 7017, (3, 4)],\n",
       " (5, 8): [8017, 7017, (5, 8)],\n",
       " (5, 10): [8017, 7017, (5, 10)],\n",
       " (1, 3): [8018, 7018, (1, 3)],\n",
       " (3, 5): [8018, 7018, (3, 5)],\n",
       " (5, 7): [8018, 7018, (5, 7)],\n",
       " (5, 11): [8018, 7018, (5, 11)],\n",
       " (1, 4): [8019, 7019, (1, 4)],\n",
       " (5, 6): [8019, 7019, (5, 6)],\n",
       " (1, 5): [8020, 7020, (1, 5)],\n",
       " (5, 5): [8020, 7020, (5, 5)],\n",
       " (1, 6): [8021, 7021, (1, 6)],\n",
       " (1, 7): [8022, 7022, (1, 7)],\n",
       " (13, 12): [8023, 7023, (13, 12)],\n",
       " (13, 13): [8024, 7024, (13, 13)],\n",
       " (2, 3): [8019, 7019, (2, 3)],\n",
       " (4, 5): [8021, 7021, (4, 5)],\n",
       " (4, 11): [8019, 7019, (4, 11)],\n",
       " (3, 11): [8020, 7020, (3, 11)],\n",
       " (2, 7): [8023, 7023, (2, 7)],\n",
       " (3, 7): [8024, 7024, (3, 7)],\n",
       " (12, 13): [8025, 7025, (12, 13)],\n",
       " (11, 13): [8026, 7026, (11, 13)],\n",
       " (10, 13): [8027, 7027, (10, 13)],\n",
       " (9, 13): [8028, 7028, (9, 13)],\n",
       " (8, 13): [8029, 7029, (8, 13)],\n",
       " (7, 13): [8030, 7030, (7, 13)],\n",
       " (6, 13): [8031, 7031, (6, 13)],\n",
       " (5, 13): [8032, 7032, (5, 13)],\n",
       " (4, 13): [8033, 7033, (4, 13)],\n",
       " (3, 13): [8034, 7034, (3, 13)],\n",
       " (2, 13): [8035, 7035, (2, 13)],\n",
       " (1, 13): [7036, 7035, (2, 13)]}"
      ]
     },
     "execution_count": 64,
     "metadata": {},
     "output_type": "execute_result"
    }
   ],
   "source": [
    "prev"
   ]
  },
  {
   "cell_type": "code",
   "execution_count": 65,
   "metadata": {},
   "outputs": [
    {
     "data": {
      "text/plain": [
       "[7036, 7035, (2, 13)]"
      ]
     },
     "execution_count": 65,
     "metadata": {},
     "output_type": "execute_result"
    }
   ],
   "source": [
    "prev[goal]"
   ]
  },
  {
   "cell_type": "code",
   "execution_count": 69,
   "metadata": {},
   "outputs": [
    {
     "ename": "KeyError",
     "evalue": "(12, 12)",
     "output_type": "error",
     "traceback": [
      "\u001b[0;31m---------------------------------------------------------------------------\u001b[0m",
      "\u001b[0;31mKeyError\u001b[0m                                  Traceback (most recent call last)",
      "Cell \u001b[0;32mIn[69], line 1\u001b[0m\n\u001b[0;32m----> 1\u001b[0m prev[(\u001b[38;5;241m12\u001b[39m,\u001b[38;5;241m12\u001b[39m)]\n",
      "\u001b[0;31mKeyError\u001b[0m: (12, 12)"
     ]
    }
   ],
   "source": [
    "prev[(12,12)]"
   ]
  },
  {
   "cell_type": "code",
   "execution_count": 54,
   "metadata": {},
   "outputs": [
    {
     "ename": "KeyboardInterrupt",
     "evalue": "",
     "output_type": "error",
     "traceback": [
      "\u001b[0;31m---------------------------------------------------------------------------\u001b[0m",
      "\u001b[0;31mKeyboardInterrupt\u001b[0m                         Traceback (most recent call last)",
      "Cell \u001b[0;32mIn[54], line 2\u001b[0m\n\u001b[1;32m      1\u001b[0m next_element \u001b[38;5;241m=\u001b[39m prev[goal]\n\u001b[0;32m----> 2\u001b[0m \u001b[38;5;28;01mwhile\u001b[39;00m next_element \u001b[38;5;129;01mis\u001b[39;00m \u001b[38;5;129;01mnot\u001b[39;00m start:\n\u001b[1;32m      3\u001b[0m     path\u001b[38;5;241m.\u001b[39mappend(next_element)\n\u001b[1;32m      4\u001b[0m     next_element \u001b[38;5;241m=\u001b[39m prev[next_element]\n",
      "\u001b[0;31mKeyboardInterrupt\u001b[0m: "
     ]
    }
   ],
   "source": [
    "next_element = prev[goal]\n",
    "while next_element is not start:\n",
    "    path.append(next_element)\n",
    "    next_element = prev[next_element]\n"
   ]
  },
  {
   "cell_type": "code",
   "execution_count": 55,
   "metadata": {},
   "outputs": [
    {
     "data": {
      "text/plain": [
       "(2, 13)"
      ]
     },
     "execution_count": 55,
     "metadata": {},
     "output_type": "execute_result"
    }
   ],
   "source": [
    "prev[goal]"
   ]
  },
  {
   "cell_type": "code",
   "execution_count": 31,
   "metadata": {},
   "outputs": [
    {
     "name": "stdout",
     "output_type": "stream",
     "text": [
      "93436\n"
     ]
    }
   ],
   "source": [
    "import heapq\n",
    "\n",
    "grid = [list(line.strip()) for line in open(\"16.txt\", \"r\")]\n",
    "\n",
    "rows = len(grid)\n",
    "cols = len(grid[0])\n",
    "\n",
    "for r in range(rows):\n",
    "    for c in range(cols):\n",
    "        if grid[r][c] == \"S\":\n",
    "            sr = r\n",
    "            sc = c\n",
    "            break\n",
    "    else:\n",
    "        continue\n",
    "    break\n",
    "\n",
    "pq = [(0, sr, sc, 0, 1)]\n",
    "seen = {(sr, sc, 0, 1)}\n",
    "\n",
    "while pq:\n",
    "    cost, r, c, dr, dc = heapq.heappop(pq)\n",
    "    seen.add((r, c, dr, dc))\n",
    "    if grid[r][c] == \"E\":\n",
    "        print(cost)\n",
    "        break\n",
    "    for new_cost, nr, nc, ndr, ndc in [(cost + 1, r + dr, c + dc, dr, dc), (cost + 1000, r, c, dc, -dr), (cost + 1000, r, c, -dc, dr)]:\n",
    "        if grid[nr][nc] == \"#\": continue\n",
    "        if (nr, nc, ndr, ndc) in seen: continue\n",
    "        heapq.heappush(pq, (new_cost, nr, nc, ndr, ndc))"
   ]
  },
  {
   "cell_type": "code",
   "execution_count": null,
   "metadata": {},
   "outputs": [],
   "source": []
  }
 ],
 "metadata": {
  "kernelspec": {
   "display_name": "base",
   "language": "python",
   "name": "python3"
  },
  "language_info": {
   "codemirror_mode": {
    "name": "ipython",
    "version": 3
   },
   "file_extension": ".py",
   "mimetype": "text/x-python",
   "name": "python",
   "nbconvert_exporter": "python",
   "pygments_lexer": "ipython3",
   "version": "3.12.4"
  }
 },
 "nbformat": 4,
 "nbformat_minor": 2
}
