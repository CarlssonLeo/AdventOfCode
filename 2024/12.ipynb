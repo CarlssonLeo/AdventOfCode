{
 "cells": [
  {
   "cell_type": "code",
   "execution_count": 111,
   "metadata": {},
   "outputs": [
    {
     "data": {
      "text/plain": [
       "[['O', 'O', 'O', 'O', 'O'],\n",
       " ['O', 'X', 'O', 'X', 'O'],\n",
       " ['O', 'O', 'O', 'O', 'O'],\n",
       " ['O', 'X', 'O', 'X', 'O'],\n",
       " ['O', 'O', 'O', 'O', 'O']]"
      ]
     },
     "execution_count": 111,
     "metadata": {},
     "output_type": "execute_result"
    }
   ],
   "source": [
    "grid = [[character for character in row.strip()] for row in open(\"sample.txt\", \"r\").readlines()]\n",
    "grid"
   ]
  },
  {
   "cell_type": "code",
   "execution_count": 1,
   "metadata": {},
   "outputs": [],
   "source": [
    "def in_bounds(grid, row, col):\n",
    "    max_row = len(grid)\n",
    "    max_col = len(grid[0])\n",
    "\n",
    "    if (max_row > row >= 0) and (max_col > col >= 0):\n",
    "        return True\n",
    "    else:\n",
    "        return False\n",
    "\n",
    "def adjacent(grid, row, col):\n",
    "    near = [(row-1, col), (row, col + 1), (row+1, col), (row, col-1)]\n",
    "    return [(row, col)for row, col in near if in_bounds(grid, row, col)]\n",
    " "
   ]
  },
  {
   "cell_type": "markdown",
   "metadata": {},
   "source": [
    "First semi-working solution:\n",
    "Overcounts single split regions like:\n",
    "\n",
    "OOOOO  \n",
    "OXOXO  \n",
    "OOOOO  \n",
    "OXOXO  \n",
    "OOOOO\n",
    "\n",
    "where X get the correct perimeter of 16, but then overcounts it 4 times."
   ]
  },
  {
   "cell_type": "code",
   "execution_count": null,
   "metadata": {},
   "outputs": [
    {
     "data": {
      "text/plain": [
       "820"
      ]
     },
     "execution_count": 2,
     "metadata": {},
     "output_type": "execute_result"
    }
   ],
   "source": [
    "from collections import defaultdict\n",
    "grid = [[character for character in row.strip()] for row in open(\"sample.txt\", \"r\").readlines()]\n",
    "\n",
    "grid_map = defaultdict(list) \n",
    "\n",
    "for row, _ in enumerate(grid):\n",
    "    for col, _ in enumerate(grid[row]):\n",
    "        open_to = 4 \n",
    "        character = grid[row][col]\n",
    "\n",
    "        for near_row, near_col in adjacent(grid, row, col):\n",
    "            if grid[near_row][near_col] == character:\n",
    "                open_to -= 1\n",
    "        grid_map[character].append(open_to)\n",
    "\n",
    "\n",
    "total = 0\n",
    "for region in list(grid_map.values()):\n",
    "    total += sum(region)*len(region)\n",
    "total      "
   ]
  },
  {
   "cell_type": "code",
   "execution_count": 112,
   "metadata": {},
   "outputs": [
    {
     "data": {
      "text/plain": [
       "defaultdict(list,\n",
       "            {'O': [2,\n",
       "              2,\n",
       "              1,\n",
       "              2,\n",
       "              2,\n",
       "              2,\n",
       "              2,\n",
       "              2,\n",
       "              1,\n",
       "              2,\n",
       "              0,\n",
       "              2,\n",
       "              1,\n",
       "              2,\n",
       "              2,\n",
       "              2,\n",
       "              2,\n",
       "              2,\n",
       "              1,\n",
       "              2,\n",
       "              2],\n",
       "             'X': [4, 4, 4, 4]})"
      ]
     },
     "execution_count": 112,
     "metadata": {},
     "output_type": "execute_result"
    }
   ],
   "source": [
    "grid_map"
   ]
  },
  {
   "cell_type": "code",
   "execution_count": 109,
   "metadata": {},
   "outputs": [
    {
     "name": "stdout",
     "output_type": "stream",
     "text": [
      "36\n",
      "16\n"
     ]
    }
   ],
   "source": [
    "for perimeter in list(grid_map.values()):\n",
    "    print(sum(perimeter))"
   ]
  },
  {
   "cell_type": "code",
   "execution_count": 110,
   "metadata": {},
   "outputs": [
    {
     "name": "stdout",
     "output_type": "stream",
     "text": [
      "21\n",
      "4\n"
     ]
    }
   ],
   "source": [
    "for area in list(grid_map.values()):\n",
    "    print(len(area))"
   ]
  },
  {
   "cell_type": "markdown",
   "metadata": {},
   "source": [
    "## Second try:\n",
    "works for single small regions, but not larger regions of the same character :( "
   ]
  },
  {
   "cell_type": "code",
   "execution_count": 8,
   "metadata": {},
   "outputs": [
    {
     "data": {
      "text/plain": [
       "2130"
      ]
     },
     "execution_count": 8,
     "metadata": {},
     "output_type": "execute_result"
    }
   ],
   "source": [
    "from collections import defaultdict\n",
    "grid = [[character for character in row.strip()] for row in open(\"sample.txt\", \"r\").readlines()]\n",
    "\n",
    "grid_map = defaultdict(list) \n",
    "i = 0\n",
    "for row, _ in enumerate(grid):\n",
    "    for col, _ in enumerate(grid[row]):\n",
    "        perimeter = 4 \n",
    "        character = grid[row][col]\n",
    "\n",
    "        for near_row, near_col in adjacent(grid, row, col):\n",
    "            if grid[near_row][near_col] == character:\n",
    "                perimeter -= 1\n",
    "        if perimeter == 4:\n",
    "            grid_map[f\"{character}+{i}\"].append(perimeter)\n",
    "            i += 1\n",
    "        else:\n",
    "            grid_map[character].append(perimeter)\n",
    "\n",
    "\n",
    "total = 0\n",
    "for region in list(grid_map.values()):\n",
    "    total += sum(region)*len(region)\n",
    "total      "
   ]
  },
  {
   "cell_type": "code",
   "execution_count": 12,
   "metadata": {},
   "outputs": [
    {
     "name": "stdout",
     "output_type": "stream",
     "text": [
      "R =  12 * 18 = 216\n",
      "I =  18 * 30 = 540\n",
      "C =  14 * 28 = 392\n",
      "F =  10 * 18 = 180\n",
      "V =  13 * 20 = 260\n",
      "J =  11 * 20 = 220\n",
      "C+0 =  1 * 4 = 4\n",
      "E =  13 * 18 = 234\n",
      "M =  5 * 12 = 60\n",
      "S =  3 * 8 = 24\n"
     ]
    }
   ],
   "source": [
    "for key, value in grid_map.items():\n",
    "    print(f\"{key} =  {len(value)} * {sum(value)} = {len(value)*sum(value)}\")"
   ]
  },
  {
   "cell_type": "markdown",
   "metadata": {},
   "source": [
    "# Flood fill\n",
    "Got hint from HyperNeutrino's youtube to look into Flood fill, to count every single region."
   ]
  },
  {
   "cell_type": "code",
   "execution_count": null,
   "metadata": {},
   "outputs": [],
   "source": [
    "def in_bounds(grid, row, col):\n",
    "    return 0 <= row < len(grid) and 0 <= col < len(grid[0])\n",
    "\n",
    "def adjacent(row, col):\n",
    "    return [(row-1, col), (row, col + 1), (row+1, col), (row, col-1)]\n",
    "    \n",
    "def dfs_flood_fill(grid, row: int, col: int, visited=None) -> list:\n",
    "    if visited is None:\n",
    "        visited = set()\n",
    "    \n",
    "    if not in_bounds(grid, row, col) or (row, col) in visited:\n",
    "        return []\n",
    "    \n",
    "    visited.add((row, col))\n",
    "    start = grid[row][col]\n",
    "\n",
    "    lst = [(row, col)]\n",
    "\n",
    "    for near_row, near_col in adjacent(row, col):\n",
    "        if in_bounds(grid, near_row, near_col) and grid[near_row][near_col] == start:\n",
    "            lst.extend(dfs_flood_fill(grid, near_row, near_col, visited))\n",
    "\n",
    "    return lst\n",
    "\n",
    "def perimeter_calc(region: list[tuple]) -> int:\n",
    "    total_perimeter = 0\n",
    "    for row, col in region:\n",
    "        perimeter = 4\n",
    "        for near_row, near_col in adjacent(row, col):\n",
    "            if  (near_col, near_row) in region:\n",
    "                perimeter -= 1\n",
    "        total_perimeter += perimeter\n",
    "        \n",
    "    return total_perimeter*len(region)\n",
    "\n",
    "grid = [[character for character in row.strip()] for row in open(\"sample.txt\", \"r\").readlines()]\n",
    "\n",
    "visited = set()\n",
    "regions = []\n",
    "for row in range(len(grid)):\n",
    "    for col in range(len(grid[row])):\n",
    "        if (row, col) in visited:\n",
    "            continue\n",
    "        region = dfs_flood_fill(grid, row, col)\n",
    "        visited |= set(region)\n",
    "        regions.append(region)\n",
    "\n",
    "sum(map(perimeter_calc, regions))    "
   ]
  }
 ],
 "metadata": {
  "kernelspec": {
   "display_name": "base",
   "language": "python",
   "name": "python3"
  },
  "language_info": {
   "codemirror_mode": {
    "name": "ipython",
    "version": 3
   },
   "file_extension": ".py",
   "mimetype": "text/x-python",
   "name": "python",
   "nbconvert_exporter": "python",
   "pygments_lexer": "ipython3",
   "version": "3.12.4"
  }
 },
 "nbformat": 4,
 "nbformat_minor": 2
}
