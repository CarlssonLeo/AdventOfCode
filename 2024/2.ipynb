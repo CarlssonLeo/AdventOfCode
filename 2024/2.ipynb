{
 "cells": [
  {
   "cell_type": "code",
   "execution_count": 99,
   "metadata": {},
   "outputs": [],
   "source": [
    "import numpy as np\n",
    "# data = np.loadtxt(\"sample.txt\", dtype=np.int64) This didnt work cus not even columns :( "
   ]
  },
  {
   "cell_type": "markdown",
   "metadata": {},
   "source": [
    "### Part 1"
   ]
  },
  {
   "cell_type": "code",
   "execution_count": 77,
   "metadata": {},
   "outputs": [
    {
     "data": {
      "text/plain": [
       "array([ True, False, False, False, False,  True])"
      ]
     },
     "execution_count": 77,
     "metadata": {},
     "output_type": "execute_result"
    }
   ],
   "source": [
    "def rule_one(array):\n",
    "    return (list(array) == sorted(array)) or (list(array) == sorted(array, reverse = True))\n",
    "\n",
    "def rule_two(array):\n",
    "    diff = np.abs(array[:-1] - array[1:])\n",
    "    \n",
    "    return np.all(diff < 4) and np.all(diff > 0)\n",
    "\n",
    "def rules(array):\n",
    "    return rule_one(array) and rule_two(array)\n",
    "\n",
    "\n",
    "np.apply_along_axis(rules, 1, data)"
   ]
  },
  {
   "cell_type": "code",
   "execution_count": 97,
   "metadata": {},
   "outputs": [
    {
     "data": {
      "text/plain": [
       "326"
      ]
     },
     "execution_count": 97,
     "metadata": {},
     "output_type": "execute_result"
    }
   ],
   "source": [
    "counter = 0\n",
    "\n",
    "with open('2.txt', 'r') as file:\n",
    "    for line in file:\n",
    "        if rules(np.array(line.split(), dtype=np.int64)) == True:\n",
    "            counter += 1\n",
    "counter"
   ]
  },
  {
   "cell_type": "markdown",
   "metadata": {},
   "source": [
    "### Part 2"
   ]
  },
  {
   "cell_type": "code",
   "execution_count": 118,
   "metadata": {},
   "outputs": [
    {
     "name": "stdout",
     "output_type": "stream",
     "text": [
      "381\n"
     ]
    }
   ],
   "source": [
    "counter = 0\n",
    "\n",
    "with open('2.txt', 'r') as file:\n",
    "    for line in file:\n",
    "        results = []\n",
    "        line = np.array(line.split(), dtype=np.int64)\n",
    "\n",
    "        for i in range(len(line)):\n",
    "            results.append(rules(np.delete(line, i)))\n",
    "\n",
    "        if np.any(results) == True:\n",
    "            counter += 1\n",
    "\n",
    "print(counter)"
   ]
  },
  {
   "cell_type": "code",
   "execution_count": null,
   "metadata": {},
   "outputs": [],
   "source": []
  }
 ],
 "metadata": {
  "kernelspec": {
   "display_name": "base",
   "language": "python",
   "name": "python3"
  },
  "language_info": {
   "codemirror_mode": {
    "name": "ipython",
    "version": 3
   },
   "file_extension": ".py",
   "mimetype": "text/x-python",
   "name": "python",
   "nbconvert_exporter": "python",
   "pygments_lexer": "ipython3",
   "version": "3.12.4"
  }
 },
 "nbformat": 4,
 "nbformat_minor": 2
}
